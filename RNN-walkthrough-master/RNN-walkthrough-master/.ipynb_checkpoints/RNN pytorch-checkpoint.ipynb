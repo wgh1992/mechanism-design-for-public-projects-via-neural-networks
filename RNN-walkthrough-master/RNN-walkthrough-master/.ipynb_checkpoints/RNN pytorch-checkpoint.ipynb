{
 "cells": [
  {
   "cell_type": "markdown",
   "metadata": {},
   "source": [
    "Welcome to this notebook where we'll be implementing a simple RNN character model with PyTorch to familiarize ourselves with the PyTorch library and get started with RNNs. You can run the code we’re using on FloydHub by clicking the button below and creating the project as well.\n",
    "\n",
    "[![Run on FloydHub](https://static.floydhub.com/button/button-small.svg)](https://floydhub.com/run?template=https://github.com/gabrielloye/RNN-walkthrough)"
   ]
  },
  {
   "cell_type": "markdown",
   "metadata": {},
   "source": [
    "In this implementation, we'll be building a model that can complete your sentence based on a few characters or a word used as input.\n",
    "![Example](img/Slide4.jpg)\n",
    "To keep this short and simple, we won't be using any large or external datasets. Instead, we'll just be defining a few sentences to see how the model learns from these sentences. The process that this implementation will take is as follows:\n",
    "![Overview](img/Slide5.jpg)"
   ]
  },
  {
   "cell_type": "markdown",
   "metadata": {},
   "source": [
    "We'll start off by importing the main PyTorch package along with the *Variable* class used to store our data tensors and the *nn* package which we will use when building the model. In addition, we'll only be using numpy to pre-process our data as Torch works really well with numpy."
   ]
  },
  {
   "cell_type": "code",
   "execution_count": 1,
   "metadata": {},
   "outputs": [],
   "source": [
    "#https://github.com/gabrielloye/RNN-walkthrough/blob/master/main.ipynb\n",
    "import torch\n",
    "from torch import nn\n",
    "\n",
    "import numpy as np"
   ]
  },
  {
   "cell_type": "markdown",
   "metadata": {},
   "source": [
    "First, we'll define the sentences that we want our model to output when fed with the first word or the first few characters.\n",
    "\n",
    "Then we'll create a dictionary out of all the characters that we have in the sentences and map them to an integer. This will allow us to convert our input characters to their respective integers (*char2int*) and vice versa (*int2char*)."
   ]
  },
  {
   "cell_type": "code",
   "execution_count": 2,
   "metadata": {},
   "outputs": [],
   "source": [
    "text = ['hey how are you','good i am fine','have a nice day']\n",
    "\n",
    "# Join all the sentences together and extract the unique characters from the combined sentences\n",
    "chars = set(''.join(text))\n",
    "\n",
    "# Creating a dictionary that maps integers to the characters\n",
    "int2char = dict(enumerate(chars))\n",
    "\n",
    "# Creating another dictionary that maps characters to integers\n",
    "char2int = {char: ind for ind, char in int2char.items()}"
   ]
  },
  {
   "cell_type": "code",
   "execution_count": 3,
   "metadata": {},
   "outputs": [
    {
     "name": "stdout",
     "output_type": "stream",
     "text": [
      "{'i': 0, ' ': 1, 'h': 2, 'r': 3, 'g': 4, 'v': 5, 'y': 6, 'e': 7, 'a': 8, 'u': 9, 'o': 10, 'm': 11, 'n': 12, 'c': 13, 'd': 14, 'w': 15, 'f': 16}\n"
     ]
    }
   ],
   "source": [
    "print(char2int)"
   ]
  },
  {
   "cell_type": "markdown",
   "metadata": {},
   "source": [
    "Next, we'll be padding our input sentences to ensure that all the sentences are of the sample length. While RNNs are typically able to take in variably sized inputs, we will usually want to feed training data in batches to speed up the training process. In order to used batches to train on our data, we'll need to ensure that each sequence within the input data are of equal size.\n",
    "\n",
    "Therefore, in most cases, padding can be done by filling up sequences that are too short with **0** values and trimming sequences that are too long. In our case, we'll be finding the length of the longest sequence and padding the rest of the sentences with blank spaces to match that length."
   ]
  },
  {
   "cell_type": "code",
   "execution_count": 20,
   "metadata": {},
   "outputs": [
    {
     "name": "stdout",
     "output_type": "stream",
     "text": [
      "The longest string has 15 characters\n",
      "hey how are you\n"
     ]
    }
   ],
   "source": [
    "maxlen = len(max(text, key=len))\n",
    "print(\"The longest string has {} characters\".format(maxlen))\n",
    "print(text[0])"
   ]
  },
  {
   "cell_type": "code",
   "execution_count": 5,
   "metadata": {},
   "outputs": [],
   "source": [
    "# Padding\n",
    "\n",
    "# A simple loop that loops through the list of sentences and adds a ' ' whitespace until the length of the sentence matches\n",
    "# the length of the longest sentence\n",
    "for i in range(len(text)):\n",
    "    while len(text[i])<maxlen:\n",
    "        text[i] += ' '"
   ]
  },
  {
   "cell_type": "markdown",
   "metadata": {},
   "source": [
    "As we're going to predict the next character in the sequence at each time step, we'll have to divide each sentence into\n",
    "\n",
    "- Input data\n",
    "    - The last input character should be excluded as it does not need to be fed into the model\n",
    "- Target/Ground Truth Label\n",
    "    - One time-step ahead of the Input data as this will be the \"correct answer\" for the model at each time step corresponding to the input data"
   ]
  },
  {
   "cell_type": "code",
   "execution_count": 6,
   "metadata": {},
   "outputs": [
    {
     "name": "stdout",
     "output_type": "stream",
     "text": [
      "Input Sequence: hey how are yo\n",
      "Target Sequence: ey how are you\n",
      "Input Sequence: good i am fine\n",
      "Target Sequence: ood i am fine \n",
      "Input Sequence: have a nice da\n",
      "Target Sequence: ave a nice day\n"
     ]
    }
   ],
   "source": [
    "# Creating lists that will hold our input and target sequences\n",
    "input_seq = []\n",
    "target_seq = []\n",
    "\n",
    "for i in range(len(text)):\n",
    "    # Remove last character for input sequence\n",
    "    input_seq.append(text[i][:-1])\n",
    "    \n",
    "    # Remove firsts character for target sequence\n",
    "    target_seq.append(text[i][1:])\n",
    "    print(\"Input Sequence: {}\\nTarget Sequence: {}\".format(input_seq[i], target_seq[i]))"
   ]
  },
  {
   "cell_type": "markdown",
   "metadata": {},
   "source": [
    "Now we can convert our input and target sequences to sequences of integers instead of characters by mapping them using the dictionaries we created above. This will allow us to one-hot-encode our input sequence subsequently."
   ]
  },
  {
   "cell_type": "code",
   "execution_count": 7,
   "metadata": {},
   "outputs": [],
   "source": [
    "for i in range(len(text)):\n",
    "    input_seq[i] = [char2int[character] for character in input_seq[i]]\n",
    "    target_seq[i] = [char2int[character] for character in target_seq[i]]"
   ]
  },
  {
   "cell_type": "markdown",
   "metadata": {},
   "source": [
    "Before encoding our input sequence into one-hot vectors, we'll define 3 key variables:\n",
    "\n",
    "- *dict_size*: The number of unique characters that we have in our text\n",
    "    - This will determine the one-hot vector size as each character will have an assigned index in that vector\n",
    "- *seq_len*: The length of the sequences that we're feeding into the model\n",
    "    - As we standardised the length of all our sentences to be equal to the longest sentences, this value will be the max length - 1 as we removed the last character input as well\n",
    "- *batch_size*: The number of sentences that we defined and are going to feed into the model as a batch"
   ]
  },
  {
   "cell_type": "code",
   "execution_count": 21,
   "metadata": {},
   "outputs": [
    {
     "name": "stdout",
     "output_type": "stream",
     "text": [
      "17\n"
     ]
    }
   ],
   "source": [
    "print(len(char2int))"
   ]
  },
  {
   "cell_type": "code",
   "execution_count": 8,
   "metadata": {},
   "outputs": [],
   "source": [
    "dict_size = len(char2int)\n",
    "seq_len = maxlen - 1\n",
    "batch_size = len(text)\n",
    "\n",
    "def one_hot_encode(sequence, dict_size, seq_len, batch_size):\n",
    "    # Creating a multi-dimensional array of zeros with the desired output shape\n",
    "    features = np.zeros((batch_size, seq_len, dict_size), dtype=np.float32)\n",
    "    \n",
    "    # Replacing the 0 at the relevant character index with a 1 to represent that character\n",
    "    for i in range(batch_size):\n",
    "        for u in range(seq_len):\n",
    "            features[i, u, sequence[i][u]] = 1\n",
    "    return features"
   ]
  },
  {
   "cell_type": "markdown",
   "metadata": {},
   "source": [
    "We also defined a helper function that creates arrays of zeros for each character and replaces the corresponding character index with a **1**."
   ]
  },
  {
   "cell_type": "code",
   "execution_count": 9,
   "metadata": {},
   "outputs": [
    {
     "name": "stdout",
     "output_type": "stream",
     "text": [
      "Input shape: (3, 14, 17) --> (Batch Size, Sequence Length, One-Hot Encoding Size)\n"
     ]
    }
   ],
   "source": [
    "input_seq = one_hot_encode(input_seq, dict_size, seq_len, batch_size)\n",
    "print(\"Input shape: {} --> (Batch Size, Sequence Length, One-Hot Encoding Size)\".format(input_seq.shape))"
   ]
  },
  {
   "cell_type": "markdown",
   "metadata": {},
   "source": [
    "Since we're done with all the data pre-processing, we can now move the data from numpy arrays to PyTorch's very own data structure - **Torch Tensors**"
   ]
  },
  {
   "cell_type": "code",
   "execution_count": 10,
   "metadata": {},
   "outputs": [],
   "source": [
    "input_seq = torch.from_numpy(input_seq)\n",
    "target_seq = torch.Tensor(target_seq)"
   ]
  },
  {
   "cell_type": "markdown",
   "metadata": {},
   "source": [
    "Now we've reached the fun part of this project! We'll be defining the model using the Torch library, and this is where you can add or remove layers, be it fully connected layers, convolutational layers, vanilla RNN layers, LSTM layers, and many more! In this post, we'll be using the basic nn.rnn to demonstrate a simple example of how RNNs can be used.\n",
    "\n",
    "Before we start building the model, let's use a build in feature in PyTorch to check the device we're running on (CPU or GPU). This implementation will not require GPU as the training is really simple. However, as you progress on to large datasets and models with millions of trainable parameters, using the GPU will be very important to speed up your training."
   ]
  },
  {
   "cell_type": "code",
   "execution_count": 11,
   "metadata": {},
   "outputs": [
    {
     "name": "stdout",
     "output_type": "stream",
     "text": [
      "GPU not available, CPU used\n"
     ]
    }
   ],
   "source": [
    "# torch.cuda.is_available() checks and returns a Boolean True if a GPU is available, else it'll return False\n",
    "is_cuda = torch.cuda.is_available()\n",
    "\n",
    "# If we have a GPU available, we'll set our device to GPU. We'll use this device variable later in our code.\n",
    "if is_cuda:\n",
    "    device = torch.device(\"cuda\")\n",
    "    print(\"GPU is available\")\n",
    "else:\n",
    "    device = torch.device(\"cpu\")\n",
    "    print(\"GPU not available, CPU used\")"
   ]
  },
  {
   "cell_type": "markdown",
   "metadata": {},
   "source": [
    "To start building our own neural network model, we can define a class that inherits PyTorch’s base class (nn.module) for all neural network modules. After doing so, we can start defining some variables and also the layers for our model under the constructor. For this model, we’ll only be using 1 layer of RNN followed by a fully connected layer. The fully connected layer will be in-charge of converting the RNN output to our desired output shape.\n",
    "\n",
    "We’ll also have to define the forward pass function under forward() as a class method. The order the forward function is sequentially executed, therefore we’ll have to pass the inputs and the zero-initialized hidden state through the RNN layer first, before passing the RNN outputs to the fully-connected layer. Note that we are using the layers that we defined in the constructor.\n",
    "\n",
    "The last method that we have to define is the method that we called earlier to initialize the hidden state - init_hidden(). This basically creates a tensor of zeros in the shape of our hidden states."
   ]
  },
  {
   "cell_type": "code",
   "execution_count": 12,
   "metadata": {},
   "outputs": [],
   "source": [
    "class Model(nn.Module):\n",
    "    def __init__(self, input_size, output_size, hidden_dim, n_layers):\n",
    "        super(Model, self).__init__()\n",
    "\n",
    "        # Defining some parameters\n",
    "        self.hidden_dim = hidden_dim\n",
    "        self.n_layers = n_layers\n",
    "\n",
    "        #Defining the layers\n",
    "        # RNN Layer\n",
    "        self.rnn = nn.RNN(input_size, hidden_dim, n_layers, batch_first=True)   \n",
    "        # Fully connected layer\n",
    "        self.fc = nn.Linear(hidden_dim, output_size)\n",
    "    \n",
    "    def forward(self, x):\n",
    "        \n",
    "        batch_size = x.size(0)\n",
    "\n",
    "        #Initializing hidden state for first input using method defined below\n",
    "        hidden = self.init_hidden(batch_size)\n",
    "\n",
    "        # Passing in the input and hidden state into the model and obtaining outputs\n",
    "        out, hidden = self.rnn(x, hidden)\n",
    "        \n",
    "        # Reshaping the outputs such that it can be fit into the fully connected layer\n",
    "        out = out.contiguous().view(-1, self.hidden_dim)\n",
    "        out = self.fc(out)\n",
    "        \n",
    "        return out, hidden\n",
    "    \n",
    "    def init_hidden(self, batch_size):\n",
    "        # This method generates the first hidden state of zeros which we'll use in the forward pass\n",
    "        hidden = torch.zeros(self.n_layers, batch_size, self.hidden_dim).to(device)\n",
    "         # We'll send the tensor holding the hidden state to the device we specified earlier as well\n",
    "        return hidden"
   ]
  },
  {
   "cell_type": "markdown",
   "metadata": {},
   "source": [
    "After defining the model above, we'll have to instantiate the model with the relevant parameters and define our hyperparamters as well. The hyperparameters we're defining below are:\n",
    "\n",
    "- *n_epochs*: Number of Epochs --> This refers to the number of times our model will go through the entire training dataset\n",
    "- *lr*: Learning Rate --> This affects the rate at which our model updates the weights in the cells each time backpropogation is done\n",
    "    - A smaller learning rate means that the model changes the values of the weight with a smaller magnitude\n",
    "    - A larger learning rate means that the weights are updated to a larger extent for each time step\n",
    "\n",
    "Similar to other neural networks, we have to define the optimizer and loss function as well. We’ll be using CrossEntropyLoss as the final output is basically a classification task."
   ]
  },
  {
   "cell_type": "code",
   "execution_count": 34,
   "metadata": {},
   "outputs": [
    {
     "name": "stdout",
     "output_type": "stream",
     "text": [
      "Model(\n",
      "  (rnn): RNN(17, 12, batch_first=True)\n",
      "  (fc): Linear(in_features=12, out_features=17, bias=True)\n",
      ")\n"
     ]
    }
   ],
   "source": [
    "# Instantiate the model with hyperparameters\n",
    "model = Model(input_size=dict_size, output_size=dict_size, hidden_dim=12, n_layers=1)\n",
    "print(model)"
   ]
  },
  {
   "cell_type": "code",
   "execution_count": 28,
   "metadata": {},
   "outputs": [],
   "source": [
    "\n",
    "# We'll also set the model to the device that we defined earlier (default is CPU)\n",
    "model.to(device)\n",
    "\n",
    "# Define hyperparameters\n",
    "n_epochs = 100\n",
    "lr=0.01\n",
    "\n",
    "# Define Loss, Optimizer\n",
    "criterion = nn.CrossEntropyLoss()\n",
    "optimizer = torch.optim.Adam(model.parameters(), lr=lr)"
   ]
  },
  {
   "cell_type": "code",
   "execution_count": 38,
   "metadata": {},
   "outputs": [
    {
     "name": "stdout",
     "output_type": "stream",
     "text": [
      "tensor([0., 0., 0., 0., 1., 0., 0., 0., 0., 0., 0., 0., 0., 0., 0., 0., 0.])\n",
      "(tensor([[ 2.8748e-01,  4.2162e-01,  9.1891e-02,  2.1989e-01, -1.6772e-01,\n",
      "         -1.0267e-01,  1.4130e-01, -6.7544e-02, -5.6164e-01,  1.0550e-01,\n",
      "          1.5136e-01,  8.3895e-02, -1.5454e-02,  2.6183e-01,  1.2404e-01,\n",
      "          3.3441e-01, -1.8676e-01],\n",
      "        [ 2.8559e-01,  3.9522e-01,  8.1084e-02,  3.8532e-01, -3.3632e-01,\n",
      "          2.3809e-02,  2.6758e-01, -4.9164e-02, -6.0996e-01,  2.4139e-01,\n",
      "          6.7940e-02,  8.5107e-02, -8.5862e-02,  1.4343e-01,  4.2722e-01,\n",
      "          1.5841e-01, -5.1293e-02],\n",
      "        [ 1.2041e-01,  4.5050e-01, -5.5929e-03,  3.4195e-01, -2.4770e-01,\n",
      "          1.9411e-02,  8.7561e-02, -2.7714e-02, -6.6059e-01,  3.5962e-02,\n",
      "          1.3764e-01,  1.7277e-01,  3.0707e-02,  5.9880e-02, -7.6333e-02,\n",
      "          3.6070e-01, -2.1163e-04],\n",
      "        [ 3.4982e-01,  4.3295e-01,  2.8701e-01,  1.7608e-01, -2.2958e-01,\n",
      "         -1.9946e-01,  1.8483e-01, -9.5967e-02, -3.6672e-01,  2.0375e-01,\n",
      "          5.0258e-02,  3.8299e-02,  2.7410e-02,  2.8975e-01,  3.9791e-01,\n",
      "          1.9269e-01, -1.6175e-01],\n",
      "        [ 4.1154e-01,  6.0108e-01, -9.7843e-03,  2.3641e-01, -1.7284e-01,\n",
      "         -1.3921e-01,  2.0941e-01,  5.0761e-02, -7.2394e-01,  1.7784e-01,\n",
      "          8.2812e-02, -2.8381e-02, -6.4457e-03,  3.2364e-01,  2.5563e-01,\n",
      "          3.0175e-01, -1.0184e-02],\n",
      "        [ 2.5828e-01,  5.7052e-01, -1.6346e-02,  1.8197e-01, -3.1678e-01,\n",
      "         -7.9911e-02,  1.0215e-01,  9.8153e-03, -6.6729e-01,  3.3880e-02,\n",
      "          1.8868e-02, -1.2844e-01,  4.6669e-02,  3.8443e-01,  5.5892e-01,\n",
      "          3.4992e-01, -2.7254e-02],\n",
      "        [ 2.6403e-01,  6.6105e-01,  8.1335e-03,  3.5884e-01, -3.0748e-01,\n",
      "          1.2127e-02,  1.2947e-01,  3.5337e-02, -6.9932e-01,  1.4640e-01,\n",
      "          8.9899e-02,  2.3899e-02, -4.4321e-02,  1.9510e-01,  3.6949e-01,\n",
      "          2.3384e-01,  8.2520e-02],\n",
      "        [ 3.3062e-01,  5.1717e-01,  1.8138e-01,  1.7833e-01, -2.6106e-01,\n",
      "         -1.3164e-01,  2.1188e-01, -7.4835e-02, -4.7582e-01,  1.8862e-01,\n",
      "          3.0934e-02, -3.2751e-03,  2.3308e-02,  3.1567e-01,  3.9433e-01,\n",
      "          2.3050e-01, -8.3119e-02],\n",
      "        [ 2.8473e-01,  4.7980e-01, -7.5919e-02,  3.4382e-01, -2.5296e-01,\n",
      "         -1.7317e-01,  2.7294e-01,  5.4796e-02, -8.2927e-01,  2.3091e-01,\n",
      "          8.2503e-02,  4.4219e-02,  6.2558e-02,  2.4331e-01,  1.9795e-01,\n",
      "          2.2443e-01,  1.1960e-01],\n",
      "        [ 3.1065e-01,  3.1218e-01,  1.7992e-02,  3.7236e-01, -3.2504e-01,\n",
      "          1.3210e-01,  2.3210e-01, -8.8311e-03, -5.5560e-01,  1.6536e-01,\n",
      "          3.6370e-02,  7.5074e-02, -1.0693e-01,  2.7381e-02,  3.7201e-01,\n",
      "          2.1649e-01, -9.1027e-02],\n",
      "        [ 3.3058e-01,  4.2850e-01,  4.1014e-02,  3.8751e-01, -2.3644e-01,\n",
      "         -1.2002e-01,  2.6757e-01,  6.9452e-02, -7.6970e-01,  3.0371e-01,\n",
      "          1.1133e-01,  1.2576e-01, -1.2175e-01,  1.5729e-01,  2.2707e-01,\n",
      "          1.8534e-01,  1.0040e-01],\n",
      "        [ 4.9554e-01,  4.9461e-01,  1.7800e-01,  1.6046e-01, -2.1141e-01,\n",
      "         -1.9902e-01,  1.3810e-01,  4.7346e-02, -5.2904e-01,  2.4344e-01,\n",
      "          1.5637e-02, -4.0381e-02, -9.9028e-02,  3.2960e-01,  3.3534e-01,\n",
      "          2.4065e-01, -5.2316e-02],\n",
      "        [ 7.5175e-02,  4.9917e-01, -4.7177e-05,  3.9544e-01, -3.5222e-01,\n",
      "          1.8538e-01,  1.1976e-01, -1.1558e-01, -6.5031e-01,  1.5389e-02,\n",
      "          1.1297e-01,  1.6552e-01, -6.4096e-03,  5.8133e-02,  2.2620e-02,\n",
      "          3.7998e-01, -5.5096e-02],\n",
      "        [ 2.1332e-01,  4.5115e-01,  9.8711e-02,  1.3190e-01, -2.3248e-01,\n",
      "         -1.9799e-01,  5.5974e-02, -5.6434e-02, -5.1021e-01,  1.4338e-02,\n",
      "          9.5668e-02, -5.1752e-02,  1.0826e-01,  3.8009e-01,  4.7164e-01,\n",
      "          3.1526e-01, -1.6217e-01],\n",
      "        [ 3.0892e-01,  3.4091e-01,  1.3071e-01,  3.3208e-01, -1.6174e-01,\n",
      "         -5.1342e-02, -3.4976e-02, -7.2770e-03, -4.7131e-01,  7.7726e-02,\n",
      "          1.2943e-01,  1.8370e-01, -4.2071e-03, -3.6289e-02, -1.0698e-01,\n",
      "          2.3330e-01, -1.7450e-01],\n",
      "        [ 2.6684e-01,  4.0337e-01,  1.1464e-01,  1.7792e-01, -2.5245e-01,\n",
      "         -1.5067e-01, -2.9889e-02, -2.1394e-02, -5.0784e-01,  2.2607e-02,\n",
      "          9.8473e-02, -3.7556e-02,  3.1114e-03,  3.2384e-01,  4.4066e-01,\n",
      "          3.0809e-01, -1.9245e-01],\n",
      "        [ 1.8478e-01,  5.7479e-01, -9.3892e-02,  1.9107e-01, -2.2775e-01,\n",
      "         -2.1333e-01,  6.6889e-02,  7.7184e-02, -7.7158e-01,  5.0229e-02,\n",
      "          8.4258e-02, -6.3532e-02,  1.3853e-01,  3.2697e-01,  3.5656e-01,\n",
      "          2.7312e-01,  1.1194e-01],\n",
      "        [ 2.7553e-01,  5.1961e-01,  4.6268e-02,  2.6735e-01, -3.6608e-01,\n",
      "          1.3798e-01, -8.5998e-02,  5.1262e-02, -5.5064e-01,  6.4515e-02,\n",
      "         -3.0797e-02, -2.1685e-02, -1.2454e-01,  3.5984e-02,  3.9773e-01,\n",
      "          1.7138e-01,  2.3784e-02],\n",
      "        [ 3.1452e-01,  5.4125e-01,  2.2723e-01,  2.3014e-01, -1.8584e-01,\n",
      "         -2.9841e-01,  1.8411e-01, -1.1844e-02, -5.7153e-01,  2.6528e-01,\n",
      "          9.4070e-02,  9.3226e-02,  2.9704e-02,  2.8430e-01,  2.2173e-01,\n",
      "          1.7065e-01,  4.5114e-02],\n",
      "        [ 1.8864e-01,  3.0328e-01,  6.8171e-02,  4.2307e-01, -4.2717e-01,\n",
      "          1.5847e-01,  2.4775e-01, -2.2845e-01, -5.1173e-01,  1.5972e-01,\n",
      "          1.1237e-01,  1.1898e-01, -2.8247e-02,  1.6609e-01,  3.0476e-01,\n",
      "          2.0985e-01, -2.7962e-01],\n",
      "        [ 3.3404e-01,  6.1104e-01,  5.2847e-02,  1.5252e-01, -1.4042e-01,\n",
      "         -3.0781e-01,  2.7366e-01,  3.4033e-02, -5.9221e-01,  2.3197e-01,\n",
      "          5.9718e-02, -2.0560e-02,  1.8791e-01,  3.1433e-01,  3.2513e-01,\n",
      "          1.3308e-01,  1.0624e-01],\n",
      "        [ 2.6937e-01,  4.0355e-01, -6.9423e-02,  3.9420e-01, -3.2826e-01,\n",
      "         -8.1164e-02,  2.4483e-01,  3.5732e-02, -8.5601e-01,  2.0998e-01,\n",
      "          6.4375e-02,  6.1205e-02, -2.7067e-02,  2.1908e-01,  1.8584e-01,\n",
      "          2.9144e-01,  7.5919e-02],\n",
      "        [ 4.5161e-01,  3.2635e-01, -1.8323e-01,  3.4247e-01, -2.6451e-01,\n",
      "          2.4933e-01,  6.2176e-02,  6.4021e-02, -7.1912e-01,  2.1137e-01,\n",
      "          1.3606e-01,  2.8689e-02, -3.5491e-01,  7.4182e-02,  1.4253e-01,\n",
      "          1.5692e-01, -1.5710e-01],\n",
      "        [ 3.9527e-01,  5.6883e-01,  1.7841e-01,  1.5336e-01, -1.7174e-01,\n",
      "         -2.7771e-01,  1.4942e-01,  5.1770e-02, -5.6983e-01,  2.3923e-01,\n",
      "          5.5379e-02,  8.9595e-03, -1.8577e-02,  3.2732e-01,  2.5664e-01,\n",
      "          2.2612e-01,  5.8128e-02],\n",
      "        [ 4.8722e-01,  2.5052e-01,  7.8309e-02,  3.9741e-01, -3.3918e-01,\n",
      "          2.3428e-01,  2.7761e-02, -4.4251e-03, -4.8119e-01,  8.2210e-02,\n",
      "          3.1257e-02,  4.1653e-02, -2.6902e-01,  2.8144e-02,  2.4901e-01,\n",
      "          3.6230e-01, -3.4057e-01],\n",
      "        [ 1.4047e-01,  4.8031e-01,  3.7909e-02,  3.6022e-01, -3.0358e-01,\n",
      "          3.9267e-02,  2.9400e-01, -1.6370e-01, -5.0520e-01,  1.6500e-01,\n",
      "          1.4592e-01,  1.2541e-01,  1.2067e-01,  1.4263e-01,  2.9898e-01,\n",
      "          1.2864e-01, -1.0102e-01],\n",
      "        [ 3.4113e-01,  4.7205e-01, -5.1472e-02,  3.7031e-01, -3.6342e-01,\n",
      "          1.7508e-01,  2.9948e-01, -4.9705e-02, -7.2300e-01,  2.7693e-01,\n",
      "          4.8703e-02,  6.8487e-02, -1.8278e-01,  1.5891e-01,  1.6678e-01,\n",
      "          2.1596e-01, -5.3952e-03],\n",
      "        [ 2.8798e-01,  4.0081e-01,  8.5986e-02,  3.7810e-01, -3.5018e-01,\n",
      "          4.0376e-02,  2.5803e-01, -4.5593e-02, -6.8015e-01,  2.4316e-01,\n",
      "          8.2895e-02,  9.3737e-02, -1.8410e-01,  2.0827e-01,  3.5765e-01,\n",
      "          2.5847e-01, -4.5982e-02],\n",
      "        [ 2.8748e-01,  4.2162e-01,  9.1891e-02,  2.1989e-01, -1.6772e-01,\n",
      "         -1.0267e-01,  1.4130e-01, -6.7544e-02, -5.6164e-01,  1.0550e-01,\n",
      "          1.5136e-01,  8.3895e-02, -1.5454e-02,  2.6183e-01,  1.2404e-01,\n",
      "          3.3441e-01, -1.8676e-01],\n",
      "        [ 2.9586e-01,  4.3344e-01, -1.2757e-02,  3.0061e-01, -2.5520e-01,\n",
      "         -1.6511e-01,  2.2950e-01,  3.2752e-02, -6.9448e-01,  2.0364e-01,\n",
      "          6.6805e-02,  3.0492e-02,  6.6752e-02,  2.2535e-01,  2.6601e-01,\n",
      "          2.0504e-01,  4.6639e-02],\n",
      "        [ 2.3925e-01,  4.2374e-01,  2.5089e-02,  3.1945e-01, -3.4384e-01,\n",
      "          1.5435e-01,  7.2856e-02, -1.3697e-02, -7.0411e-01,  1.0891e-01,\n",
      "          2.5408e-02,  1.2852e-01, -1.9170e-01,  6.6220e-02, -8.5845e-02,\n",
      "          3.9639e-01,  1.3670e-02],\n",
      "        [ 2.7303e-01,  3.1165e-01,  2.5322e-01,  3.8016e-01, -3.4683e-01,\n",
      "          1.1908e-02,  1.9032e-01, -1.0527e-01, -5.0914e-01,  2.3533e-01,\n",
      "          1.0705e-01,  1.5365e-01, -2.0876e-01,  1.6884e-01,  4.0149e-01,\n",
      "          2.2303e-01, -1.6879e-01],\n",
      "        [ 5.0068e-01,  5.7416e-01,  1.2083e-01,  1.2212e-01, -9.8694e-02,\n",
      "         -3.4634e-01,  1.8613e-01,  8.9310e-02, -5.4773e-01,  2.7905e-01,\n",
      "          5.1348e-02, -4.3256e-02,  5.8761e-02,  3.3326e-01,  2.7522e-01,\n",
      "          1.3372e-01,  3.7935e-02],\n",
      "        [ 2.9075e-01,  4.1546e-01, -6.0626e-02,  3.9441e-01, -3.5351e-01,\n",
      "         -2.2416e-02,  2.2088e-01,  2.8359e-02, -8.3480e-01,  2.0364e-01,\n",
      "          5.5611e-02,  4.5625e-02, -8.0375e-02,  2.2148e-01,  2.1716e-01,\n",
      "          3.0263e-01,  4.6425e-02],\n",
      "        [ 3.5616e-01,  5.5699e-01,  1.3809e-01,  1.8435e-01, -2.5627e-01,\n",
      "         -1.6061e-01,  1.9752e-01,  1.6010e-02, -5.7057e-01,  2.1096e-01,\n",
      "          1.1460e-02, -2.4927e-02, -1.6175e-02,  3.0956e-01,  4.0522e-01,\n",
      "          2.3520e-01,  4.1522e-02],\n",
      "        [ 3.7121e-01,  5.2096e-01, -3.4555e-02,  4.1343e-01, -4.2364e-01,\n",
      "          2.4376e-01,  2.9174e-01, -3.5079e-02, -7.7770e-01,  2.9575e-01,\n",
      "          2.1088e-02,  5.5640e-02, -2.8360e-01,  1.7142e-01,  2.1739e-01,\n",
      "          2.5700e-01,  2.4429e-02],\n",
      "        [ 1.7186e-01,  4.0005e-01,  8.4740e-02,  3.5388e-01, -3.9086e-01,\n",
      "          1.0848e-01,  2.8522e-01, -2.2002e-01, -5.2170e-01,  1.5493e-01,\n",
      "          1.1653e-01,  9.8081e-02, -1.1559e-02,  2.4637e-01,  3.3007e-01,\n",
      "          2.5948e-01, -2.1785e-01],\n",
      "        [ 2.5915e-01,  6.2387e-01,  2.0828e-02,  1.4758e-01, -2.3382e-01,\n",
      "         -1.8020e-01,  2.2659e-01, -3.7520e-02, -6.5829e-01,  1.2242e-01,\n",
      "          6.8606e-02, -6.2477e-02,  1.0934e-01,  4.3482e-01,  3.7497e-01,\n",
      "          3.1904e-01,  4.3114e-03],\n",
      "        [ 1.9967e-01,  4.4674e-01, -8.8785e-04,  4.3637e-01, -4.0171e-01,\n",
      "          8.7804e-02,  3.3543e-01, -6.3695e-02, -7.4955e-01,  2.3307e-01,\n",
      "          5.1999e-02,  8.9087e-02, -6.9255e-02,  1.5439e-01,  4.2125e-01,\n",
      "          2.0497e-01,  4.0507e-02],\n",
      "        [ 4.3328e-01,  5.8408e-01,  1.1680e-01,  1.5487e-01, -1.5741e-01,\n",
      "         -3.0595e-01,  2.2141e-01,  7.5400e-02, -6.0641e-01,  2.6139e-01,\n",
      "          3.1894e-02, -3.4417e-02,  4.7349e-02,  3.4033e-01,  3.2509e-01,\n",
      "          1.9124e-01,  8.5503e-02],\n",
      "        [ 4.0674e-01,  5.6568e-01,  2.4642e-02,  2.6194e-01, -3.7529e-01,\n",
      "          1.9504e-01, -4.3807e-02,  4.6989e-02, -5.5526e-01,  1.0313e-01,\n",
      "         -5.1343e-02, -8.7283e-02, -1.9036e-01,  1.0710e-01,  4.4705e-01,\n",
      "          1.9082e-01, -4.7925e-02],\n",
      "        [ 2.0451e-01,  4.8237e-01,  6.2751e-03,  3.5253e-01, -2.6156e-01,\n",
      "         -1.7764e-01,  2.2008e-01,  2.8338e-02, -8.0449e-01,  2.2657e-01,\n",
      "          1.1922e-01,  1.1732e-01,  1.5766e-02,  2.2220e-01,  1.2954e-01,\n",
      "          2.3506e-01,  1.4137e-01]], grad_fn=<AddmmBackward>), tensor([[[ 0.0583, -0.1889,  0.5202,  0.3517,  0.4110,  0.4323, -0.1462,\n",
      "          -0.5012,  0.5745,  0.1645, -0.1294,  0.0254],\n",
      "         [ 0.2428, -0.0548,  0.6685,  0.3734,  0.2953,  0.0533, -0.2393,\n",
      "           0.0234,  0.6642,  0.0194,  0.1057,  0.3416],\n",
      "         [ 0.1523, -0.2454,  0.4135,  0.5289,  0.4071, -0.1809,  0.0767,\n",
      "          -0.0763,  0.5981,  0.1738,  0.0709,  0.2634]]],\n"
     ]
    },
    {
     "name": "stdout",
     "output_type": "stream",
     "text": [
      "       grad_fn=<StackBackward>))\n"
     ]
    }
   ],
   "source": [
    "print(input_seq[1][0])\n",
    "print(input_seq.shape)\n",
    "print(model(input_seq))"
   ]
  },
  {
   "cell_type": "markdown",
   "metadata": {},
   "source": [
    "Now we can begin our training! As we only have a few sentences, this training process is very fast. However, as we progress, larger datasets and deeper models mean that the input data is much larger and the number of parameters within the model that we have to compute is much more."
   ]
  },
  {
   "cell_type": "code",
   "execution_count": 29,
   "metadata": {
    "scrolled": true
   },
   "outputs": [
    {
     "name": "stdout",
     "output_type": "stream",
     "text": [
      "Epoch: 10/100............. Loss: 2.4285\n",
      "Epoch: 20/100............. Loss: 2.1913\n",
      "Epoch: 30/100............. Loss: 1.8414\n",
      "Epoch: 40/100............. Loss: 1.4210\n",
      "Epoch: 50/100............. Loss: 1.0416\n",
      "Epoch: 60/100............. Loss: 0.7255\n",
      "Epoch: 70/100............. Loss: 0.5007\n",
      "Epoch: 80/100............. Loss: 0.3494\n",
      "Epoch: 90/100............. Loss: 0.2508\n",
      "Epoch: 100/100............. Loss: 0.1888\n"
     ]
    }
   ],
   "source": [
    "# Training Run\n",
    "for epoch in range(1, n_epochs + 1):\n",
    "    optimizer.zero_grad() # Clears existing gradients from previous epoch\n",
    "    input_seq = input_seq.to(device)\n",
    "    output, hidden = model(input_seq)\n",
    "    loss = criterion(output, target_seq.view(-1).long())\n",
    "    loss.backward() # Does backpropagation and calculates gradients\n",
    "    optimizer.step() # Updates the weights accordingly\n",
    "    \n",
    "    if epoch%10 == 0:\n",
    "        print('Epoch: {}/{}.............'.format(epoch, n_epochs), end=' ')\n",
    "        print(\"Loss: {:.4f}\".format(loss.item()))"
   ]
  },
  {
   "cell_type": "markdown",
   "metadata": {},
   "source": [
    "Let’s test our model now and see what kind of output we will get. Before that, let’s define some helper function to convert our model output back to text."
   ]
  },
  {
   "cell_type": "code",
   "execution_count": 30,
   "metadata": {},
   "outputs": [],
   "source": [
    "def predict(model, character):\n",
    "    # One-hot encoding our input to fit into the model\n",
    "    character = np.array([[char2int[c] for c in character]])\n",
    "    character = one_hot_encode(character, dict_size, character.shape[1], 1)\n",
    "    character = torch.from_numpy(character)\n",
    "    character.to(device)\n",
    "    \n",
    "    out, hidden = model(character)\n",
    "\n",
    "    prob = nn.functional.softmax(out[-1], dim=0).data\n",
    "    # Taking the class with the highest probability score from the output\n",
    "    char_ind = torch.max(prob, dim=0)[1].item()\n",
    "\n",
    "    return int2char[char_ind], hidden"
   ]
  },
  {
   "cell_type": "code",
   "execution_count": 31,
   "metadata": {},
   "outputs": [],
   "source": [
    "def sample(model, out_len, start='hey'):\n",
    "    model.eval() # eval mode\n",
    "    start = start.lower()\n",
    "    # First off, run through the starting characters\n",
    "    chars = [ch for ch in start]\n",
    "    size = out_len - len(chars)\n",
    "    # Now pass in the previous characters and get a new one\n",
    "    for ii in range(size):\n",
    "        char, h = predict(model, chars)\n",
    "        chars.append(char)\n",
    "\n",
    "    return ''.join(chars)"
   ]
  },
  {
   "cell_type": "code",
   "execution_count": 32,
   "metadata": {},
   "outputs": [
    {
     "data": {
      "text/plain": [
       "'good i am fine '"
      ]
     },
     "execution_count": 32,
     "metadata": {},
     "output_type": "execute_result"
    }
   ],
   "source": [
    "sample(model, 15, 'good')"
   ]
  },
  {
   "cell_type": "markdown",
   "metadata": {},
   "source": [
    "As we can see, the model is able to come up with the sentence ‘good i am fine ‘ if we feed it with the words ‘good’, achieving what we intended for it to do!"
   ]
  },
  {
   "cell_type": "code",
   "execution_count": 33,
   "metadata": {},
   "outputs": [
    {
     "data": {
      "text/plain": [
       "'god i e nice da'"
      ]
     },
     "execution_count": 33,
     "metadata": {},
     "output_type": "execute_result"
    }
   ],
   "source": [
    "sample(model, 15, 'god')"
   ]
  },
  {
   "cell_type": "code",
   "execution_count": null,
   "metadata": {},
   "outputs": [],
   "source": []
  }
 ],
 "metadata": {
  "kernelspec": {
   "display_name": "Python 3",
   "language": "python",
   "name": "python3"
  },
  "language_info": {
   "codemirror_mode": {
    "name": "ipython",
    "version": 3
   },
   "file_extension": ".py",
   "mimetype": "text/x-python",
   "name": "python",
   "nbconvert_exporter": "python",
   "pygments_lexer": "ipython3",
   "version": "3.6.7"
  }
 },
 "nbformat": 4,
 "nbformat_minor": 2
}
