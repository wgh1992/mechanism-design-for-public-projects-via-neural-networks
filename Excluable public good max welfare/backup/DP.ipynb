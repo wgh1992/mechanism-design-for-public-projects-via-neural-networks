{
 "cells": [
  {
   "cell_type": "code",
   "execution_count": 2,
   "metadata": {},
   "outputs": [],
   "source": [
    "import numpy as np\n",
    "import random\n",
    "from matplotlib import pyplot as plt\n",
    "from mpl_toolkits.mplot3d import Axes3D\n",
    "from sklearn.decomposition import PCA\n",
    "import matplotlib.pyplot as plt\n",
    "import math\n",
    "import scipy.stats as st\n",
    "from mpl_toolkits.mplot3d import Axes3D \n",
    "import matplotlib.pyplot as plt \n",
    "import numpy as np \n",
    "import copy\n",
    "import torch\n",
    "n=5\n",
    "nn=5\n",
    "divide_number=1000;\n",
    "object_number=1.0\n",
    "batch_size=128\n",
    "width=0.000001\n",
    "width1=0.000001"
   ]
  },
  {
   "cell_type": "code",
   "execution_count": 3,
   "metadata": {},
   "outputs": [
    {
     "name": "stdout",
     "output_type": "stream",
     "text": [
      "[0.26328727 0.14022565 0.19204722 0.26212887 0.11177218]\n"
     ]
    }
   ],
   "source": [
    "def distribution1(i):\n",
    "    x=0;\n",
    "    #x=np.random.uniform(0, 1, size=1);\n",
    "    #R=np.random.randint(2);\n",
    "    if (i==0):\n",
    "        x=np.random.uniform(0.1, 0.3, size=1);\n",
    "    elif(i==1):\n",
    "        x=np.random.uniform(0.1, 0.3, size=1);\n",
    "    elif(i==2):\n",
    "        x=np.random.uniform(0.1, 0.3, size=1);\n",
    "    elif(i==3):\n",
    "        x=np.random.uniform(0.1, 0.3, size=1);\n",
    "    else:\n",
    "        x=np.random.uniform(0.1, 0.3, size=1);\n",
    "    if(x<=0):\n",
    "        x=0;\n",
    "    return x;\n",
    "\n",
    "def distribution():\n",
    "    list_temp=np.random.rand(nn);\n",
    "    for ii in range(len(list_temp)):\n",
    "        list_temp[ii]=distribution1(ii)\n",
    "    list_temp=np.array(list_temp)\n",
    "    #list_temp=sorted(list_temp,reverse=1);\n",
    "    return list_temp;\n",
    "print(distribution())"
   ]
  },
  {
   "cell_type": "code",
   "execution_count": 6,
   "metadata": {},
   "outputs": [],
   "source": [
    "x=torch.tensor([1.0000, 10.0000, 0.1812]) \n",
    "y=torch.tensor([1, 2, 1], dtype=torch.float32)"
   ]
  },
  {
   "cell_type": "code",
   "execution_count": 7,
   "metadata": {},
   "outputs": [
    {
     "name": "stdout",
     "output_type": "stream",
     "text": [
      "tensor(21.1812)\n"
     ]
    }
   ],
   "source": [
    "print(torch.dot(x,y))"
   ]
  },
  {
   "cell_type": "code",
   "execution_count": null,
   "metadata": {},
   "outputs": [
    {
     "name": "stdout",
     "output_type": "stream",
     "text": [
      "> d:\\computersoftwares\\anaconda\\lib\\site-packages\\ipython\\core\\interactiveshell.py(2335)run_cell_magic()\n",
      "   2333             if self.find_line_magic(magic_name) is not None:\n",
      "   2334                 message += ' Did you mean the line magic %{0} (single %)?'.format(magic_name)\n",
      "-> 2335             raise UsageError(message)\n",
      "   2336         else:\n",
      "   2337             # Note: this is the distance in the stack to the user's frame.\n",
      "\n",
      "ipdb> 1\n",
      "1\n"
     ]
    }
   ],
   "source": [
    "%debug \n",
    "a = 1"
   ]
  },
  {
   "cell_type": "code",
   "execution_count": 10,
   "metadata": {},
   "outputs": [],
   "source": [
    "a=1"
   ]
  },
  {
   "cell_type": "code",
   "execution_count": 11,
   "metadata": {},
   "outputs": [
    {
     "name": "stderr",
     "output_type": "stream",
     "text": [
      "UsageError: %%timeit is a cell magic, but the cell body is empty. Did you mean the line magic %timeit (single %)?\n"
     ]
    }
   ],
   "source": [
    "%%timeit a = range (10)min(a)"
   ]
  },
  {
   "cell_type": "code",
   "execution_count": null,
   "metadata": {},
   "outputs": [],
   "source": []
  }
 ],
 "metadata": {
  "kernelspec": {
   "display_name": "Python 3",
   "language": "python",
   "name": "python3"
  },
  "language_info": {
   "codemirror_mode": {
    "name": "ipython",
    "version": 3
   },
   "file_extension": ".py",
   "mimetype": "text/x-python",
   "name": "python",
   "nbconvert_exporter": "python",
   "pygments_lexer": "ipython3",
   "version": "3.6.7"
  }
 },
 "nbformat": 4,
 "nbformat_minor": 2
}
