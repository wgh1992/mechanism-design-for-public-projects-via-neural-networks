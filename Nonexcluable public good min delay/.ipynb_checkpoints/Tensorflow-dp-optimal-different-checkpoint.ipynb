{
 "cells": [
  {
   "cell_type": "code",
   "execution_count": 1,
   "metadata": {},
   "outputs": [],
   "source": [
    "import numpy as np\n",
    "import random\n",
    "from matplotlib import pyplot as plt\n",
    "from mpl_toolkits.mplot3d import Axes3D\n",
    "from sklearn.decomposition import PCA\n",
    "import matplotlib.pyplot as plt\n",
    "import math\n",
    "import scipy.stats as st\n",
    "from mpl_toolkits.mplot3d import Axes3D \n",
    "import matplotlib.pyplot as plt \n",
    "import numpy as np \n",
    "import copy\n",
    "n=5\n",
    "nn=5\n",
    "divide_number=1000;\n",
    "object_number=1.0"
   ]
  },
  {
   "cell_type": "code",
   "execution_count": 2,
   "metadata": {},
   "outputs": [
    {
     "name": "stdout",
     "output_type": "stream",
     "text": [
      "[0.57165801 0.47643898 0.49114481 0.56091268 0.55842011]\n"
     ]
    }
   ],
   "source": [
    "def distribution1(i):\n",
    "    x=0;\n",
    "    #x=np.random.uniform(0, 1, size=1);\n",
    "    #R=np.random.randint(2);\n",
    "    if (i==0):\n",
    "        x=np.random.normal(0.5, 0.1, size=1);\n",
    "    elif(i==1):\n",
    "        x=np.random.normal(0.5, 0.1, size=1);\n",
    "    elif(i==2):\n",
    "        x=np.random.normal(0.5, 0.1, size=1);\n",
    "    elif(i==3):\n",
    "        x=np.random.normal(0.5, 0.1, size=1);\n",
    "    else:\n",
    "        x=np.random.normal(0.5, 0.1, size=1);\n",
    "    if(x<=0):\n",
    "        x=0;\n",
    "    return x;\n",
    "\n",
    "def distribution():\n",
    "    list_temp=np.random.rand(nn);\n",
    "    for ii in range(len(list_temp)):\n",
    "        list_temp[ii]=distribution1(ii)\n",
    "    list_temp=np.array(list_temp)\n",
    "    #list_temp=sorted(list_temp,reverse=1);\n",
    "    return list_temp;\n",
    "print(distribution())"
   ]
  },
  {
   "cell_type": "code",
   "execution_count": 3,
   "metadata": {},
   "outputs": [],
   "source": [
    "possible = np.zeros((n,divide_number+1), dtype=np.double)\n",
    "for j in range(0,n):\n",
    "    for i in range(100000):#100000\n",
    "        x=distribution1(j%5)*divide_number\n",
    "        temp=int(x)\n",
    "        #print(o,temp)\n",
    "        if(temp>divide_number):\n",
    "            temp=divide_number\n",
    "        possible[j][temp]+=1/100000;"
   ]
  },
  {
   "cell_type": "code",
   "execution_count": 4,
   "metadata": {},
   "outputs": [
    {
     "name": "stdout",
     "output_type": "stream",
     "text": [
      "[[0. 0. 0. ... 1. 1. 1.]\n",
      " [0. 0. 0. ... 1. 1. 1.]\n",
      " [0. 0. 0. ... 1. 1. 1.]\n",
      " [0. 0. 0. ... 1. 1. 1.]\n",
      " [0. 0. 0. ... 1. 1. 1.]]\n"
     ]
    }
   ],
   "source": [
    "P = np.zeros((n,divide_number+1), dtype=np.double)\n",
    "for j in range(0,n):\n",
    "    P[j][0]=possible[j][0]\n",
    "    for i in range(1,divide_number+1):\n",
    "        P[j][i]=P[j][i-1]+possible[j][i];\n",
    "print(P)"
   ]
  },
  {
   "cell_type": "code",
   "execution_count": 5,
   "metadata": {},
   "outputs": [],
   "source": [
    "dp = np.zeros(((nn+2), (nn+2), divide_number+1), dtype=np.double)\n",
    "record_dp = np.zeros(((nn+2), (nn+2), divide_number+1), dtype=np.double)\n",
    "for yes in range(0,nn+1):\n",
    "    for i in range(0,divide_number+1):\n",
    "        dp[1][yes][i]=(1.0-P[nn-1][i])*(0.0)+P[nn-1][i]*(yes+1.0);\n",
    "        record_dp[1][yes][i]=i;"
   ]
  },
  {
   "cell_type": "code",
   "execution_count": null,
   "metadata": {},
   "outputs": [],
   "source": [
    "for i in range(2,nn+1):\n",
    "    for yes in range(0,nn+1):\n",
    "        for j in range(divide_number+1):\n",
    "            min_num=99999;\n",
    "            for o in range(0,j+1):\n",
    "                if( min_num>(1.0-P[nn-i][o])*dp[i-1][yes+1][j-o]+P[nn-i][o]*(n)):\n",
    "                    record_dp[i][yes][j]=o;\n",
    "                    min_num=(1.0-P[nn-i][o])*dp[i-1][yes+1][j-o]+P[nn-i][o]*(n)\n",
    "                #min_num=min(min_num,(1.0-P[o])*dp[i-1][yes+1][j-o]+\n",
    "                #            P[o]*(dp[i-1][yes][j]+1));\n",
    "                \n",
    "                #print(i,yes,j,o,(divide_number-o)/divide_number*dp[i-1][yes+1][j-o]+\n",
    "                #            (o)/divide_number*(dp[i-1][yes][j]+1));\n",
    "            dp[i][yes][j]=min_num;\n",
    "        dp[i][yes][0]=0;\n",
    "        record_dp[i][yes][0]=0"
   ]
  },
  {
   "cell_type": "code",
   "execution_count": null,
   "metadata": {
    "scrolled": true
   },
   "outputs": [],
   "source": [
    "print(dp[nn][0][divide_number]);\n",
    "print(record_dp[nn][0][divide_number]);\n",
    "print(temp)\n"
   ]
  },
  {
   "cell_type": "code",
   "execution_count": null,
   "metadata": {},
   "outputs": [],
   "source": [
    "def plan_dp(temp):\n",
    "    #print(temp)\n",
    "    remain=divide_number\n",
    "    yes=0;\n",
    "    ans =0;\n",
    "    o_list=[];\n",
    "    remain_list=[];\n",
    "    for i in range(nn,0,-1):\n",
    "        o=record_dp[i][yes][remain]\n",
    "        #print(o,remain)\n",
    "        o_list.append(o)\n",
    "        remain_list.append(remain);\n",
    "        if(o<temp[nn-i]):\n",
    "            remain-=int(o);\n",
    "            \n",
    "            yes+=1;\n",
    "        elif (remain>0):\n",
    "            ans+=1;\n",
    "            return nn,o_list;\n",
    "    if(remain<=0):\n",
    "        return ans,o_list;\n",
    "    else:\n",
    "        return nn,o_list;\n",
    "    "
   ]
  },
  {
   "cell_type": "code",
   "execution_count": null,
   "metadata": {},
   "outputs": [],
   "source": [
    "ans_list=[];\n",
    "for i in range(10000):\n",
    "    temp=distribution()*divide_number   \n",
    "    ans_list.append(plan_dp(temp)[0]);\n",
    "    #print(plan_dp(temp)[0])\n",
    "print(sum(ans_list)/len(ans_list))"
   ]
  },
  {
   "cell_type": "code",
   "execution_count": null,
   "metadata": {},
   "outputs": [],
   "source": [
    "print(\"dp:           \",dp[nn][0][divide_number]);"
   ]
  },
  {
   "cell_type": "code",
   "execution_count": null,
   "metadata": {},
   "outputs": [],
   "source": []
  },
  {
   "cell_type": "markdown",
   "metadata": {},
   "source": [
    "#### "
   ]
  },
  {
   "cell_type": "markdown",
   "metadata": {},
   "source": [
    "##### "
   ]
  }
 ],
 "metadata": {
  "kernelspec": {
   "display_name": "Python 3",
   "language": "python",
   "name": "python3"
  },
  "language_info": {
   "codemirror_mode": {
    "name": "ipython",
    "version": 3
   },
   "file_extension": ".py",
   "mimetype": "text/x-python",
   "name": "python",
   "nbconvert_exporter": "python",
   "pygments_lexer": "ipython3",
   "version": "3.6.7"
  }
 },
 "nbformat": 4,
 "nbformat_minor": 2
}
